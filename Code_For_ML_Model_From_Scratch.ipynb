{
 "cells": [
  {
   "attachments": {},
   "cell_type": "markdown",
   "id": "849a07f9-fca0-4c0b-b7a1-ba01ed843903",
   "metadata": {},
   "source": [
    "# MUSIC RECOMMENDATION SYSTEM USING LSH MODEL "
   ]
  },
  {
   "attachments": {},
   "cell_type": "markdown",
   "id": "71caebde-2877-4660-9063-3ae8f2b5c947",
   "metadata": {},
   "source": [
    "# IMPORT THE IMPORTANT LIBRARIES NEEDED"
   ]
  },
  {
   "cell_type": "code",
   "execution_count": 1,
   "id": "6009f109-6f16-4348-b69c-d4ee4c42b819",
   "metadata": {
    "tags": []
   },
   "outputs": [],
   "source": [
    "import librosa\n",
    "import soundfile as sp\n",
    "import numpy as np\n",
    "import pandas as pd\n",
    "import sklearn\n",
    "from sklearn.preprocessing import StandardScaler\n",
    "from tqdm import tqdm\n",
    "import pickle\n",
    "import librosa.display\n",
    "import matplotlib.pyplot as plt\n",
    "import time\n",
    "from scipy.spatial.distance import cosine\n",
    "from scipy.spatial.distance import euclidean\n",
    "import os, glob"
   ]
  },
  {
   "attachments": {},
   "cell_type": "markdown",
   "id": "47a06ac2-2e3d-40e8-b766-746a1cb28915",
   "metadata": {},
   "source": [
    "# READ EVERY FILE INSIDE THE AUDIO DIRECTORY AND TAKE MFCC AND DO PRE PROCESSING OF MFCC"
   ]
  },
  {
   "cell_type": "code",
   "execution_count": 2,
   "id": "469107e0-6056-40ea-bfce-4a9ff05dba32",
   "metadata": {
    "tags": []
   },
   "outputs": [
    {
     "name": "stderr",
     "output_type": "stream",
     "text": [
      "100%|██████████| 823/823 [01:25<00:00,  9.64it/s]\n"
     ]
    }
   ],
   "source": [
    "import os, glob\n",
    "\n",
    "path = 'Data/'\n",
    "count = 0\n",
    "\n",
    "files = glob.glob(path + '*.mp3')\n",
    "\n",
    "P_dict = {}\n",
    "\n",
    "for filename in tqdm(files):\n",
    "    x, Sr = librosa.load(filename, dtype='float32')\n",
    "    MFCC_1 = librosa.feature.mfcc(y=x,sr=Sr)\n",
    "    \n",
    "    Audios = []\n",
    "    \n",
    "    for index, value in enumerate(MFCC_1):\n",
    "    \n",
    "        length_of_vector = len(MFCC_1[index])\n",
    "\n",
    "        Random_vector = np.random.rand(length_of_vector,1)\n",
    "\n",
    "        Dot_product = np.dot(MFCC_1[index], Random_vector)\n",
    "\n",
    "        Audios.append(float(Dot_product))\n",
    "        \n",
    "    for index, value in enumerate(Audios):\n",
    "    \n",
    "        if value > 1:\n",
    "            Audios[index] = 1\n",
    "        elif value < 1:\n",
    "            Audios[index] = 0\n",
    "    \n",
    "    P_dict[filename] = Audios    "
   ]
  },
  {
   "attachments": {},
   "cell_type": "markdown",
   "id": "d3fd08f8-cdc5-4ab7-a264-50c0815ed844",
   "metadata": {},
   "source": [
    "# TESTING IF CODE WORKS FOR ONE AUDIO FILE"
   ]
  },
  {
   "cell_type": "code",
   "execution_count": 28,
   "id": "dc43135a-61fe-4507-acc0-75ef95f5780d",
   "metadata": {
    "tags": []
   },
   "outputs": [],
   "source": [
    "path = 'Data/001039.mp3'\n",
    "\n",
    "X, sr = librosa.load(path, dtype='float32')\n",
    "MFCC = librosa.feature.mfcc(y=X, sr=sr)"
   ]
  },
  {
   "cell_type": "code",
   "execution_count": 29,
   "id": "c9a4faf8-0903-449c-817b-ffc5a9dbb440",
   "metadata": {
    "tags": []
   },
   "outputs": [],
   "source": [
    "Audio_1 = []\n",
    "\n",
    "for index, value in enumerate(MFCC):\n",
    "    \n",
    "    length_of_vector = len(MFCC[index])\n",
    "    \n",
    "    Random_vector = np.random.rand(length_of_vector,1)\n",
    "    \n",
    "    Dot_product = np.dot(MFCC[index], Random_vector)\n",
    "    \n",
    "    Audio_1.append(Dot_product)"
   ]
  },
  {
   "cell_type": "code",
   "execution_count": 30,
   "id": "40c81355-b219-4d1a-98ea-1908e167b740",
   "metadata": {
    "tags": []
   },
   "outputs": [
    {
     "data": {
      "text/plain": [
       "[1, 1, 0, 1, 1, 1, 1, 1, 1, 1, 1, 1, 1, 1, 0, 1, 1, 1, 1, 1]"
      ]
     },
     "execution_count": 30,
     "metadata": {},
     "output_type": "execute_result"
    }
   ],
   "source": [
    "for index, value in enumerate(Audio_1):\n",
    "    \n",
    "    if value > 1:\n",
    "        Audio_1[index] = 1\n",
    "    elif value < 1:\n",
    "        Audio_1[index] = 0\n",
    "        \n",
    "Audio_1"
   ]
  },
  {
   "attachments": {},
   "cell_type": "markdown",
   "id": "e24fee72-15d6-4eed-94e4-26e9dcdfea7b",
   "metadata": {},
   "source": [
    "# TAKING RANDOM PERMUTATIONS AND STORING INSIDE A LIST"
   ]
  },
  {
   "cell_type": "code",
   "execution_count": 3,
   "id": "ff54ca87-3cdb-4fb3-8097-e0bb31515d4d",
   "metadata": {
    "tags": []
   },
   "outputs": [
    {
     "data": {
      "text/plain": [
       "[[18, 1, 8, 19, 10, 11, 13, 3, 2, 5, 6, 15, 16, 7, 0, 4, 9, 12, 17, 14],\n",
       " [19, 1, 7, 0, 4, 12, 2, 9, 15, 5, 6, 16, 3, 10, 14, 8, 17, 13, 11, 18],\n",
       " [8, 2, 1, 0, 15, 10, 13, 7, 4, 6, 9, 19, 17, 16, 14, 18, 3, 11, 5, 12],\n",
       " [1, 13, 19, 16, 15, 6, 8, 10, 11, 17, 4, 2, 7, 3, 9, 0, 5, 18, 12, 14],\n",
       " [16, 7, 0, 1, 2, 10, 9, 14, 4, 12, 13, 18, 11, 5, 17, 8, 3, 6, 15, 19],\n",
       " [6, 18, 2, 3, 12, 4, 15, 14, 5, 19, 9, 10, 8, 1, 16, 7, 11, 13, 17, 0],\n",
       " [1, 8, 11, 6, 7, 16, 18, 13, 12, 3, 15, 5, 4, 19, 17, 9, 2, 14, 10, 0],\n",
       " [5, 8, 18, 17, 15, 10, 0, 16, 14, 13, 11, 7, 12, 6, 2, 1, 4, 9, 19, 3],\n",
       " [15, 9, 11, 8, 14, 18, 12, 16, 5, 0, 17, 7, 3, 6, 19, 1, 2, 13, 10, 4],\n",
       " [19, 7, 10, 8, 15, 17, 12, 4, 16, 14, 3, 9, 18, 11, 6, 1, 13, 0, 2, 5],\n",
       " [17, 16, 14, 11, 1, 3, 0, 19, 12, 2, 4, 15, 5, 7, 8, 6, 18, 13, 9, 10],\n",
       " [2, 0, 18, 4, 8, 12, 3, 5, 1, 16, 17, 11, 10, 15, 6, 7, 9, 13, 14, 19],\n",
       " [1, 9, 15, 17, 19, 2, 8, 3, 11, 7, 10, 4, 0, 14, 12, 18, 6, 13, 16, 5],\n",
       " [11, 10, 19, 17, 7, 5, 14, 0, 18, 15, 16, 6, 2, 8, 9, 4, 1, 12, 13, 3],\n",
       " [3, 12, 17, 6, 19, 2, 15, 16, 18, 7, 4, 8, 14, 10, 9, 5, 11, 0, 13, 1],\n",
       " [13, 4, 5, 8, 19, 14, 9, 15, 1, 6, 11, 17, 10, 2, 7, 16, 12, 0, 3, 18],\n",
       " [14, 4, 12, 17, 6, 15, 2, 18, 19, 8, 5, 9, 0, 11, 1, 7, 16, 13, 10, 3],\n",
       " [15, 11, 12, 1, 0, 2, 4, 14, 6, 3, 19, 13, 16, 17, 5, 8, 18, 9, 10, 7],\n",
       " [1, 0, 7, 11, 19, 5, 17, 16, 13, 14, 18, 6, 12, 15, 3, 9, 2, 4, 10, 8],\n",
       " [19, 11, 0, 2, 1, 4, 12, 10, 8, 7, 16, 13, 17, 15, 3, 18, 5, 6, 9, 14]]"
      ]
     },
     "execution_count": 3,
     "metadata": {},
     "output_type": "execute_result"
    }
   ],
   "source": [
    "P_lists = []\n",
    "\n",
    "for i in range(20):\n",
    "    Permutations = list(np.random.permutation(20))\n",
    "    P_lists.append(Permutations)\n",
    "    \n",
    "P_lists"
   ]
  },
  {
   "attachments": {},
   "cell_type": "markdown",
   "id": "0e306c5b-3079-4924-900f-091490cf12d3",
   "metadata": {},
   "source": [
    "# STORE THE WHOLE LISTS OF PERMUTATIONS INSIDE A PICKLE FILE"
   ]
  },
  {
   "cell_type": "code",
   "execution_count": 4,
   "id": "920af11b-ec9b-4abc-b3ea-82c68699de2b",
   "metadata": {
    "tags": []
   },
   "outputs": [],
   "source": [
    "name = \"Permutations.pkl\"\n",
    "\n",
    "with open(name, 'wb') as file:  \n",
    "    pickle.dump(P_lists, file)"
   ]
  },
  {
   "cell_type": "code",
   "execution_count": 10,
   "id": "963a5787-50a6-4af3-add8-b3a4372604a4",
   "metadata": {
    "tags": []
   },
   "outputs": [],
   "source": [
    "with open(r\"Permutations.pkl\", 'rb') as file: \n",
    "    list_of_perm = pickle.load(file)"
   ]
  },
  {
   "cell_type": "code",
   "execution_count": 249,
   "id": "a2bda185-5134-4371-be97-9d1e3a2cf170",
   "metadata": {
    "tags": []
   },
   "outputs": [
    {
     "data": {
      "text/plain": [
       "[[8, 16, 12, 9, 15, 0, 4, 17, 13, 11, 18, 10, 1, 6, 5, 14, 19, 2, 7, 3],\n",
       " [6, 11, 18, 19, 8, 17, 3, 2, 0, 14, 1, 5, 13, 12, 7, 4, 9, 16, 10, 15],\n",
       " [6, 11, 3, 5, 10, 12, 17, 4, 15, 13, 7, 18, 19, 0, 16, 14, 2, 9, 8, 1],\n",
       " [17, 5, 14, 0, 15, 18, 19, 9, 8, 12, 10, 6, 7, 11, 2, 13, 3, 4, 16, 1],\n",
       " [6, 16, 5, 11, 10, 18, 7, 12, 9, 4, 19, 1, 0, 15, 3, 13, 2, 8, 14, 17],\n",
       " [2, 19, 17, 13, 18, 10, 12, 7, 5, 14, 15, 1, 6, 9, 16, 11, 3, 8, 0, 4],\n",
       " [19, 6, 15, 10, 7, 14, 17, 11, 13, 12, 3, 16, 5, 9, 8, 1, 18, 0, 4, 2],\n",
       " [14, 7, 12, 5, 8, 1, 16, 11, 6, 15, 17, 3, 9, 18, 13, 19, 4, 2, 0, 10],\n",
       " [10, 18, 3, 12, 5, 11, 0, 1, 15, 14, 6, 16, 4, 19, 9, 13, 7, 17, 8, 2],\n",
       " [15, 9, 19, 5, 18, 16, 14, 8, 17, 3, 6, 4, 2, 12, 11, 1, 10, 0, 7, 13],\n",
       " [15, 8, 9, 14, 4, 17, 18, 6, 7, 2, 19, 11, 12, 0, 3, 5, 16, 13, 1, 10],\n",
       " [6, 12, 15, 1, 3, 11, 8, 2, 16, 0, 4, 14, 7, 13, 18, 19, 10, 5, 17, 9],\n",
       " [1, 9, 10, 11, 17, 7, 8, 6, 12, 15, 14, 3, 16, 4, 18, 5, 13, 19, 0, 2],\n",
       " [14, 9, 10, 17, 19, 6, 13, 4, 12, 5, 15, 7, 1, 8, 16, 3, 18, 11, 0, 2],\n",
       " [15, 7, 5, 19, 13, 8, 11, 4, 6, 14, 3, 0, 10, 17, 16, 18, 2, 9, 12, 1],\n",
       " [13, 16, 2, 1, 14, 9, 4, 10, 12, 5, 19, 0, 3, 7, 18, 6, 8, 11, 17, 15],\n",
       " [10, 7, 19, 6, 0, 4, 15, 2, 8, 3, 12, 5, 17, 13, 1, 11, 18, 16, 9, 14],\n",
       " [18, 17, 19, 2, 10, 14, 0, 13, 9, 12, 16, 4, 5, 6, 1, 8, 7, 3, 15, 11],\n",
       " [1, 10, 9, 2, 3, 4, 19, 18, 5, 14, 8, 7, 16, 15, 6, 11, 13, 17, 12, 0],\n",
       " [15, 3, 17, 0, 16, 11, 2, 14, 5, 19, 13, 18, 12, 10, 4, 7, 1, 8, 6, 9]]"
      ]
     },
     "execution_count": 249,
     "metadata": {},
     "output_type": "execute_result"
    }
   ],
   "source": [
    "list_of_perm"
   ]
  },
  {
   "attachments": {},
   "cell_type": "markdown",
   "id": "e96285bf-5064-4f70-842c-2110af5667f8",
   "metadata": {},
   "source": [
    "# TESTING THE PERMUTATIONS AND MAKING BUCKETS"
   ]
  },
  {
   "cell_type": "code",
   "execution_count": 31,
   "id": "f5d0d12f-3245-45d6-8818-9f24fd8e6b34",
   "metadata": {
    "tags": []
   },
   "outputs": [
    {
     "data": {
      "text/plain": [
       "[1, 0, 0, 0, 1, 0, 0, 0, 0, 0, 0, 0, 0, 0, 0, 0, 0, 0, 0, 1]"
      ]
     },
     "execution_count": 31,
     "metadata": {},
     "output_type": "execute_result"
    }
   ],
   "source": [
    "newlist = []\n",
    "anotherList = []\n",
    "\n",
    "for i in range(len(list_of_perm)):\n",
    "    \n",
    "    anotherList = []\n",
    "    \n",
    "    for j in range(len(Audio_1)):\n",
    "\n",
    "        if Audio_1[j] == 1:\n",
    "            anotherList.append(list_of_perm[i][j])\n",
    "    \n",
    "    newlist.append(min(anotherList))\n",
    "    \n",
    "newlist"
   ]
  },
  {
   "cell_type": "code",
   "execution_count": 32,
   "id": "c0cbaadd-b953-4ca2-ab7c-34f1ece3b8fb",
   "metadata": {
    "tags": []
   },
   "outputs": [
    {
     "data": {
      "text/plain": [
       "20"
      ]
     },
     "execution_count": 32,
     "metadata": {},
     "output_type": "execute_result"
    }
   ],
   "source": [
    "len(newlist)"
   ]
  },
  {
   "cell_type": "code",
   "execution_count": 33,
   "id": "3ebb390b-92fc-4f44-bdb3-0053477119fb",
   "metadata": {
    "tags": []
   },
   "outputs": [
    {
     "data": {
      "text/plain": [
       "[1, 0, 0, 0, 1, 0, 0, 0, 0, 0, 0, 0, 0, 0, 0, 0, 0, 0, 0, 1]"
      ]
     },
     "execution_count": 33,
     "metadata": {},
     "output_type": "execute_result"
    }
   ],
   "source": [
    "newlist"
   ]
  },
  {
   "cell_type": "code",
   "execution_count": 34,
   "id": "49076101-7dc4-4ddf-adbf-6cb0104991c2",
   "metadata": {
    "tags": []
   },
   "outputs": [
    {
     "data": {
      "text/plain": [
       "[1, 1, 0, 1, 1, 1, 1, 1, 1, 1, 1, 1, 1, 1, 0, 1, 1, 1, 1, 1]"
      ]
     },
     "execution_count": 34,
     "metadata": {},
     "output_type": "execute_result"
    }
   ],
   "source": [
    "Audio_1"
   ]
  },
  {
   "attachments": {},
   "cell_type": "markdown",
   "id": "dbd29fc5-1c28-477f-96fb-3f675bca83a5",
   "metadata": {},
   "source": [
    "# STORE THE DICTIONARY OF MFCC PRE PROCESSING INSIDE A PICKLE FILE"
   ]
  },
  {
   "cell_type": "code",
   "execution_count": 5,
   "id": "3ee57f7a-375e-486f-8440-1372b1ebb8f7",
   "metadata": {
    "tags": []
   },
   "outputs": [],
   "source": [
    "name = \"Audios_shingling.pkl\"\n",
    "\n",
    "with open(name, 'wb') as file:  \n",
    "    pickle.dump(P_dict, file)"
   ]
  },
  {
   "cell_type": "code",
   "execution_count": 6,
   "id": "8d1b0779-c222-4907-b67c-e3ec5c553908",
   "metadata": {
    "tags": []
   },
   "outputs": [],
   "source": [
    "with open(r\"Audios_shingling.pkl\", 'rb') as file: \n",
    "    Audios = pickle.load(file)"
   ]
  },
  {
   "attachments": {},
   "cell_type": "markdown",
   "id": "ed241e68-da8e-4ac4-a1de-4f9cdab1c726",
   "metadata": {},
   "source": [
    "# MAKE A DATAFRAME OF THE WHOLE DICTIONARIES"
   ]
  },
  {
   "cell_type": "code",
   "execution_count": 7,
   "id": "5a34da95-26a2-46c0-ad3a-b83f31f428b0",
   "metadata": {
    "tags": []
   },
   "outputs": [
    {
     "data": {
      "text/html": [
       "<div>\n",
       "<style scoped>\n",
       "    .dataframe tbody tr th:only-of-type {\n",
       "        vertical-align: middle;\n",
       "    }\n",
       "\n",
       "    .dataframe tbody tr th {\n",
       "        vertical-align: top;\n",
       "    }\n",
       "\n",
       "    .dataframe thead th {\n",
       "        text-align: right;\n",
       "    }\n",
       "</style>\n",
       "<table border=\"1\" class=\"dataframe\">\n",
       "  <thead>\n",
       "    <tr style=\"text-align: right;\">\n",
       "      <th></th>\n",
       "      <th>Data\\001039.mp3</th>\n",
       "      <th>Data\\001040.mp3</th>\n",
       "      <th>Data\\001066.mp3</th>\n",
       "      <th>Data\\001069.mp3</th>\n",
       "      <th>Data\\001073.mp3</th>\n",
       "      <th>Data\\001075.mp3</th>\n",
       "      <th>Data\\001082.mp3</th>\n",
       "      <th>Data\\001083.mp3</th>\n",
       "      <th>Data\\001087.mp3</th>\n",
       "      <th>Data\\001102.mp3</th>\n",
       "      <th>...</th>\n",
       "      <th>Data\\020373.mp3</th>\n",
       "      <th>Data\\020374.mp3</th>\n",
       "      <th>Data\\020375.mp3</th>\n",
       "      <th>Data\\020376.mp3</th>\n",
       "      <th>Data\\020424.mp3</th>\n",
       "      <th>Data\\020432.mp3</th>\n",
       "      <th>Data\\020469.mp3</th>\n",
       "      <th>Data\\020667.mp3</th>\n",
       "      <th>Data\\020704.mp3</th>\n",
       "      <th>Data\\020818.mp3</th>\n",
       "    </tr>\n",
       "  </thead>\n",
       "  <tbody>\n",
       "    <tr>\n",
       "      <th>0</th>\n",
       "      <td>1</td>\n",
       "      <td>1</td>\n",
       "      <td>0</td>\n",
       "      <td>0</td>\n",
       "      <td>0</td>\n",
       "      <td>0</td>\n",
       "      <td>0</td>\n",
       "      <td>0</td>\n",
       "      <td>0</td>\n",
       "      <td>0</td>\n",
       "      <td>...</td>\n",
       "      <td>0</td>\n",
       "      <td>0</td>\n",
       "      <td>0</td>\n",
       "      <td>0</td>\n",
       "      <td>0</td>\n",
       "      <td>0</td>\n",
       "      <td>0</td>\n",
       "      <td>0</td>\n",
       "      <td>0</td>\n",
       "      <td>0</td>\n",
       "    </tr>\n",
       "    <tr>\n",
       "      <th>1</th>\n",
       "      <td>1</td>\n",
       "      <td>1</td>\n",
       "      <td>1</td>\n",
       "      <td>1</td>\n",
       "      <td>1</td>\n",
       "      <td>1</td>\n",
       "      <td>1</td>\n",
       "      <td>1</td>\n",
       "      <td>1</td>\n",
       "      <td>1</td>\n",
       "      <td>...</td>\n",
       "      <td>1</td>\n",
       "      <td>1</td>\n",
       "      <td>1</td>\n",
       "      <td>1</td>\n",
       "      <td>1</td>\n",
       "      <td>1</td>\n",
       "      <td>1</td>\n",
       "      <td>1</td>\n",
       "      <td>1</td>\n",
       "      <td>1</td>\n",
       "    </tr>\n",
       "    <tr>\n",
       "      <th>2</th>\n",
       "      <td>0</td>\n",
       "      <td>0</td>\n",
       "      <td>0</td>\n",
       "      <td>0</td>\n",
       "      <td>1</td>\n",
       "      <td>1</td>\n",
       "      <td>0</td>\n",
       "      <td>0</td>\n",
       "      <td>0</td>\n",
       "      <td>0</td>\n",
       "      <td>...</td>\n",
       "      <td>0</td>\n",
       "      <td>0</td>\n",
       "      <td>0</td>\n",
       "      <td>0</td>\n",
       "      <td>1</td>\n",
       "      <td>1</td>\n",
       "      <td>1</td>\n",
       "      <td>1</td>\n",
       "      <td>1</td>\n",
       "      <td>1</td>\n",
       "    </tr>\n",
       "    <tr>\n",
       "      <th>3</th>\n",
       "      <td>1</td>\n",
       "      <td>1</td>\n",
       "      <td>1</td>\n",
       "      <td>1</td>\n",
       "      <td>1</td>\n",
       "      <td>1</td>\n",
       "      <td>0</td>\n",
       "      <td>1</td>\n",
       "      <td>1</td>\n",
       "      <td>1</td>\n",
       "      <td>...</td>\n",
       "      <td>1</td>\n",
       "      <td>1</td>\n",
       "      <td>1</td>\n",
       "      <td>1</td>\n",
       "      <td>1</td>\n",
       "      <td>1</td>\n",
       "      <td>1</td>\n",
       "      <td>1</td>\n",
       "      <td>1</td>\n",
       "      <td>1</td>\n",
       "    </tr>\n",
       "    <tr>\n",
       "      <th>4</th>\n",
       "      <td>1</td>\n",
       "      <td>1</td>\n",
       "      <td>1</td>\n",
       "      <td>0</td>\n",
       "      <td>0</td>\n",
       "      <td>1</td>\n",
       "      <td>0</td>\n",
       "      <td>0</td>\n",
       "      <td>0</td>\n",
       "      <td>1</td>\n",
       "      <td>...</td>\n",
       "      <td>0</td>\n",
       "      <td>0</td>\n",
       "      <td>0</td>\n",
       "      <td>0</td>\n",
       "      <td>1</td>\n",
       "      <td>1</td>\n",
       "      <td>1</td>\n",
       "      <td>1</td>\n",
       "      <td>1</td>\n",
       "      <td>1</td>\n",
       "    </tr>\n",
       "    <tr>\n",
       "      <th>5</th>\n",
       "      <td>1</td>\n",
       "      <td>1</td>\n",
       "      <td>1</td>\n",
       "      <td>1</td>\n",
       "      <td>1</td>\n",
       "      <td>1</td>\n",
       "      <td>0</td>\n",
       "      <td>1</td>\n",
       "      <td>1</td>\n",
       "      <td>1</td>\n",
       "      <td>...</td>\n",
       "      <td>1</td>\n",
       "      <td>0</td>\n",
       "      <td>1</td>\n",
       "      <td>1</td>\n",
       "      <td>1</td>\n",
       "      <td>1</td>\n",
       "      <td>1</td>\n",
       "      <td>1</td>\n",
       "      <td>1</td>\n",
       "      <td>1</td>\n",
       "    </tr>\n",
       "    <tr>\n",
       "      <th>6</th>\n",
       "      <td>1</td>\n",
       "      <td>0</td>\n",
       "      <td>0</td>\n",
       "      <td>0</td>\n",
       "      <td>1</td>\n",
       "      <td>1</td>\n",
       "      <td>0</td>\n",
       "      <td>1</td>\n",
       "      <td>1</td>\n",
       "      <td>1</td>\n",
       "      <td>...</td>\n",
       "      <td>0</td>\n",
       "      <td>0</td>\n",
       "      <td>0</td>\n",
       "      <td>0</td>\n",
       "      <td>1</td>\n",
       "      <td>0</td>\n",
       "      <td>0</td>\n",
       "      <td>1</td>\n",
       "      <td>0</td>\n",
       "      <td>1</td>\n",
       "    </tr>\n",
       "    <tr>\n",
       "      <th>7</th>\n",
       "      <td>1</td>\n",
       "      <td>1</td>\n",
       "      <td>1</td>\n",
       "      <td>1</td>\n",
       "      <td>1</td>\n",
       "      <td>1</td>\n",
       "      <td>0</td>\n",
       "      <td>1</td>\n",
       "      <td>1</td>\n",
       "      <td>1</td>\n",
       "      <td>...</td>\n",
       "      <td>1</td>\n",
       "      <td>0</td>\n",
       "      <td>0</td>\n",
       "      <td>0</td>\n",
       "      <td>0</td>\n",
       "      <td>1</td>\n",
       "      <td>0</td>\n",
       "      <td>1</td>\n",
       "      <td>1</td>\n",
       "      <td>1</td>\n",
       "    </tr>\n",
       "    <tr>\n",
       "      <th>8</th>\n",
       "      <td>1</td>\n",
       "      <td>0</td>\n",
       "      <td>0</td>\n",
       "      <td>1</td>\n",
       "      <td>0</td>\n",
       "      <td>1</td>\n",
       "      <td>0</td>\n",
       "      <td>1</td>\n",
       "      <td>1</td>\n",
       "      <td>1</td>\n",
       "      <td>...</td>\n",
       "      <td>0</td>\n",
       "      <td>0</td>\n",
       "      <td>0</td>\n",
       "      <td>0</td>\n",
       "      <td>1</td>\n",
       "      <td>0</td>\n",
       "      <td>0</td>\n",
       "      <td>0</td>\n",
       "      <td>0</td>\n",
       "      <td>1</td>\n",
       "    </tr>\n",
       "    <tr>\n",
       "      <th>9</th>\n",
       "      <td>1</td>\n",
       "      <td>1</td>\n",
       "      <td>1</td>\n",
       "      <td>1</td>\n",
       "      <td>1</td>\n",
       "      <td>1</td>\n",
       "      <td>0</td>\n",
       "      <td>1</td>\n",
       "      <td>1</td>\n",
       "      <td>1</td>\n",
       "      <td>...</td>\n",
       "      <td>0</td>\n",
       "      <td>1</td>\n",
       "      <td>0</td>\n",
       "      <td>0</td>\n",
       "      <td>1</td>\n",
       "      <td>0</td>\n",
       "      <td>0</td>\n",
       "      <td>1</td>\n",
       "      <td>0</td>\n",
       "      <td>0</td>\n",
       "    </tr>\n",
       "    <tr>\n",
       "      <th>10</th>\n",
       "      <td>1</td>\n",
       "      <td>0</td>\n",
       "      <td>1</td>\n",
       "      <td>0</td>\n",
       "      <td>1</td>\n",
       "      <td>1</td>\n",
       "      <td>0</td>\n",
       "      <td>1</td>\n",
       "      <td>0</td>\n",
       "      <td>1</td>\n",
       "      <td>...</td>\n",
       "      <td>0</td>\n",
       "      <td>0</td>\n",
       "      <td>0</td>\n",
       "      <td>0</td>\n",
       "      <td>0</td>\n",
       "      <td>0</td>\n",
       "      <td>0</td>\n",
       "      <td>0</td>\n",
       "      <td>0</td>\n",
       "      <td>1</td>\n",
       "    </tr>\n",
       "    <tr>\n",
       "      <th>11</th>\n",
       "      <td>1</td>\n",
       "      <td>1</td>\n",
       "      <td>1</td>\n",
       "      <td>1</td>\n",
       "      <td>1</td>\n",
       "      <td>1</td>\n",
       "      <td>0</td>\n",
       "      <td>1</td>\n",
       "      <td>1</td>\n",
       "      <td>1</td>\n",
       "      <td>...</td>\n",
       "      <td>1</td>\n",
       "      <td>1</td>\n",
       "      <td>0</td>\n",
       "      <td>0</td>\n",
       "      <td>1</td>\n",
       "      <td>1</td>\n",
       "      <td>0</td>\n",
       "      <td>1</td>\n",
       "      <td>0</td>\n",
       "      <td>1</td>\n",
       "    </tr>\n",
       "    <tr>\n",
       "      <th>12</th>\n",
       "      <td>1</td>\n",
       "      <td>0</td>\n",
       "      <td>0</td>\n",
       "      <td>1</td>\n",
       "      <td>0</td>\n",
       "      <td>1</td>\n",
       "      <td>0</td>\n",
       "      <td>0</td>\n",
       "      <td>1</td>\n",
       "      <td>1</td>\n",
       "      <td>...</td>\n",
       "      <td>0</td>\n",
       "      <td>0</td>\n",
       "      <td>0</td>\n",
       "      <td>0</td>\n",
       "      <td>0</td>\n",
       "      <td>0</td>\n",
       "      <td>1</td>\n",
       "      <td>1</td>\n",
       "      <td>0</td>\n",
       "      <td>0</td>\n",
       "    </tr>\n",
       "    <tr>\n",
       "      <th>13</th>\n",
       "      <td>1</td>\n",
       "      <td>0</td>\n",
       "      <td>1</td>\n",
       "      <td>1</td>\n",
       "      <td>1</td>\n",
       "      <td>1</td>\n",
       "      <td>0</td>\n",
       "      <td>1</td>\n",
       "      <td>1</td>\n",
       "      <td>1</td>\n",
       "      <td>...</td>\n",
       "      <td>0</td>\n",
       "      <td>1</td>\n",
       "      <td>1</td>\n",
       "      <td>1</td>\n",
       "      <td>0</td>\n",
       "      <td>0</td>\n",
       "      <td>1</td>\n",
       "      <td>1</td>\n",
       "      <td>0</td>\n",
       "      <td>1</td>\n",
       "    </tr>\n",
       "    <tr>\n",
       "      <th>14</th>\n",
       "      <td>0</td>\n",
       "      <td>0</td>\n",
       "      <td>0</td>\n",
       "      <td>1</td>\n",
       "      <td>0</td>\n",
       "      <td>1</td>\n",
       "      <td>0</td>\n",
       "      <td>0</td>\n",
       "      <td>1</td>\n",
       "      <td>1</td>\n",
       "      <td>...</td>\n",
       "      <td>0</td>\n",
       "      <td>0</td>\n",
       "      <td>0</td>\n",
       "      <td>0</td>\n",
       "      <td>1</td>\n",
       "      <td>0</td>\n",
       "      <td>0</td>\n",
       "      <td>1</td>\n",
       "      <td>0</td>\n",
       "      <td>0</td>\n",
       "    </tr>\n",
       "    <tr>\n",
       "      <th>15</th>\n",
       "      <td>1</td>\n",
       "      <td>0</td>\n",
       "      <td>1</td>\n",
       "      <td>1</td>\n",
       "      <td>1</td>\n",
       "      <td>1</td>\n",
       "      <td>0</td>\n",
       "      <td>0</td>\n",
       "      <td>1</td>\n",
       "      <td>1</td>\n",
       "      <td>...</td>\n",
       "      <td>0</td>\n",
       "      <td>0</td>\n",
       "      <td>1</td>\n",
       "      <td>1</td>\n",
       "      <td>1</td>\n",
       "      <td>0</td>\n",
       "      <td>1</td>\n",
       "      <td>1</td>\n",
       "      <td>0</td>\n",
       "      <td>1</td>\n",
       "    </tr>\n",
       "    <tr>\n",
       "      <th>16</th>\n",
       "      <td>1</td>\n",
       "      <td>0</td>\n",
       "      <td>1</td>\n",
       "      <td>1</td>\n",
       "      <td>0</td>\n",
       "      <td>1</td>\n",
       "      <td>0</td>\n",
       "      <td>0</td>\n",
       "      <td>0</td>\n",
       "      <td>1</td>\n",
       "      <td>...</td>\n",
       "      <td>0</td>\n",
       "      <td>0</td>\n",
       "      <td>0</td>\n",
       "      <td>0</td>\n",
       "      <td>1</td>\n",
       "      <td>0</td>\n",
       "      <td>0</td>\n",
       "      <td>1</td>\n",
       "      <td>0</td>\n",
       "      <td>0</td>\n",
       "    </tr>\n",
       "    <tr>\n",
       "      <th>17</th>\n",
       "      <td>1</td>\n",
       "      <td>1</td>\n",
       "      <td>1</td>\n",
       "      <td>1</td>\n",
       "      <td>1</td>\n",
       "      <td>1</td>\n",
       "      <td>1</td>\n",
       "      <td>0</td>\n",
       "      <td>0</td>\n",
       "      <td>1</td>\n",
       "      <td>...</td>\n",
       "      <td>0</td>\n",
       "      <td>0</td>\n",
       "      <td>1</td>\n",
       "      <td>0</td>\n",
       "      <td>0</td>\n",
       "      <td>0</td>\n",
       "      <td>1</td>\n",
       "      <td>1</td>\n",
       "      <td>1</td>\n",
       "      <td>0</td>\n",
       "    </tr>\n",
       "    <tr>\n",
       "      <th>18</th>\n",
       "      <td>1</td>\n",
       "      <td>0</td>\n",
       "      <td>1</td>\n",
       "      <td>1</td>\n",
       "      <td>0</td>\n",
       "      <td>1</td>\n",
       "      <td>1</td>\n",
       "      <td>0</td>\n",
       "      <td>1</td>\n",
       "      <td>1</td>\n",
       "      <td>...</td>\n",
       "      <td>0</td>\n",
       "      <td>0</td>\n",
       "      <td>0</td>\n",
       "      <td>0</td>\n",
       "      <td>0</td>\n",
       "      <td>0</td>\n",
       "      <td>0</td>\n",
       "      <td>0</td>\n",
       "      <td>0</td>\n",
       "      <td>0</td>\n",
       "    </tr>\n",
       "    <tr>\n",
       "      <th>19</th>\n",
       "      <td>1</td>\n",
       "      <td>1</td>\n",
       "      <td>1</td>\n",
       "      <td>0</td>\n",
       "      <td>1</td>\n",
       "      <td>1</td>\n",
       "      <td>1</td>\n",
       "      <td>1</td>\n",
       "      <td>0</td>\n",
       "      <td>1</td>\n",
       "      <td>...</td>\n",
       "      <td>0</td>\n",
       "      <td>0</td>\n",
       "      <td>0</td>\n",
       "      <td>0</td>\n",
       "      <td>1</td>\n",
       "      <td>1</td>\n",
       "      <td>0</td>\n",
       "      <td>1</td>\n",
       "      <td>1</td>\n",
       "      <td>0</td>\n",
       "    </tr>\n",
       "  </tbody>\n",
       "</table>\n",
       "<p>20 rows × 823 columns</p>\n",
       "</div>"
      ],
      "text/plain": [
       "    Data\\001039.mp3  Data\\001040.mp3  Data\\001066.mp3  Data\\001069.mp3   \n",
       "0                 1                1                0                0  \\\n",
       "1                 1                1                1                1   \n",
       "2                 0                0                0                0   \n",
       "3                 1                1                1                1   \n",
       "4                 1                1                1                0   \n",
       "5                 1                1                1                1   \n",
       "6                 1                0                0                0   \n",
       "7                 1                1                1                1   \n",
       "8                 1                0                0                1   \n",
       "9                 1                1                1                1   \n",
       "10                1                0                1                0   \n",
       "11                1                1                1                1   \n",
       "12                1                0                0                1   \n",
       "13                1                0                1                1   \n",
       "14                0                0                0                1   \n",
       "15                1                0                1                1   \n",
       "16                1                0                1                1   \n",
       "17                1                1                1                1   \n",
       "18                1                0                1                1   \n",
       "19                1                1                1                0   \n",
       "\n",
       "    Data\\001073.mp3  Data\\001075.mp3  Data\\001082.mp3  Data\\001083.mp3   \n",
       "0                 0                0                0                0  \\\n",
       "1                 1                1                1                1   \n",
       "2                 1                1                0                0   \n",
       "3                 1                1                0                1   \n",
       "4                 0                1                0                0   \n",
       "5                 1                1                0                1   \n",
       "6                 1                1                0                1   \n",
       "7                 1                1                0                1   \n",
       "8                 0                1                0                1   \n",
       "9                 1                1                0                1   \n",
       "10                1                1                0                1   \n",
       "11                1                1                0                1   \n",
       "12                0                1                0                0   \n",
       "13                1                1                0                1   \n",
       "14                0                1                0                0   \n",
       "15                1                1                0                0   \n",
       "16                0                1                0                0   \n",
       "17                1                1                1                0   \n",
       "18                0                1                1                0   \n",
       "19                1                1                1                1   \n",
       "\n",
       "    Data\\001087.mp3  Data\\001102.mp3  ...  Data\\020373.mp3  Data\\020374.mp3   \n",
       "0                 0                0  ...                0                0  \\\n",
       "1                 1                1  ...                1                1   \n",
       "2                 0                0  ...                0                0   \n",
       "3                 1                1  ...                1                1   \n",
       "4                 0                1  ...                0                0   \n",
       "5                 1                1  ...                1                0   \n",
       "6                 1                1  ...                0                0   \n",
       "7                 1                1  ...                1                0   \n",
       "8                 1                1  ...                0                0   \n",
       "9                 1                1  ...                0                1   \n",
       "10                0                1  ...                0                0   \n",
       "11                1                1  ...                1                1   \n",
       "12                1                1  ...                0                0   \n",
       "13                1                1  ...                0                1   \n",
       "14                1                1  ...                0                0   \n",
       "15                1                1  ...                0                0   \n",
       "16                0                1  ...                0                0   \n",
       "17                0                1  ...                0                0   \n",
       "18                1                1  ...                0                0   \n",
       "19                0                1  ...                0                0   \n",
       "\n",
       "    Data\\020375.mp3  Data\\020376.mp3  Data\\020424.mp3  Data\\020432.mp3   \n",
       "0                 0                0                0                0  \\\n",
       "1                 1                1                1                1   \n",
       "2                 0                0                1                1   \n",
       "3                 1                1                1                1   \n",
       "4                 0                0                1                1   \n",
       "5                 1                1                1                1   \n",
       "6                 0                0                1                0   \n",
       "7                 0                0                0                1   \n",
       "8                 0                0                1                0   \n",
       "9                 0                0                1                0   \n",
       "10                0                0                0                0   \n",
       "11                0                0                1                1   \n",
       "12                0                0                0                0   \n",
       "13                1                1                0                0   \n",
       "14                0                0                1                0   \n",
       "15                1                1                1                0   \n",
       "16                0                0                1                0   \n",
       "17                1                0                0                0   \n",
       "18                0                0                0                0   \n",
       "19                0                0                1                1   \n",
       "\n",
       "    Data\\020469.mp3  Data\\020667.mp3  Data\\020704.mp3  Data\\020818.mp3  \n",
       "0                 0                0                0                0  \n",
       "1                 1                1                1                1  \n",
       "2                 1                1                1                1  \n",
       "3                 1                1                1                1  \n",
       "4                 1                1                1                1  \n",
       "5                 1                1                1                1  \n",
       "6                 0                1                0                1  \n",
       "7                 0                1                1                1  \n",
       "8                 0                0                0                1  \n",
       "9                 0                1                0                0  \n",
       "10                0                0                0                1  \n",
       "11                0                1                0                1  \n",
       "12                1                1                0                0  \n",
       "13                1                1                0                1  \n",
       "14                0                1                0                0  \n",
       "15                1                1                0                1  \n",
       "16                0                1                0                0  \n",
       "17                1                1                1                0  \n",
       "18                0                0                0                0  \n",
       "19                0                1                1                0  \n",
       "\n",
       "[20 rows x 823 columns]"
      ]
     },
     "execution_count": 7,
     "metadata": {},
     "output_type": "execute_result"
    }
   ],
   "source": [
    "df = pd.DataFrame(Audios)\n",
    "df"
   ]
  },
  {
   "attachments": {},
   "cell_type": "markdown",
   "id": "d1c8c47f-5c3a-4324-8e98-ae42d94aed7a",
   "metadata": {},
   "source": [
    "# GET COLUMN NAMES FROM DATAFRAME"
   ]
  },
  {
   "cell_type": "code",
   "execution_count": 8,
   "id": "db9f711b-4255-4b30-ac59-177f9b7a4488",
   "metadata": {
    "tags": []
   },
   "outputs": [],
   "source": [
    "Columns = list(df.columns)"
   ]
  },
  {
   "attachments": {},
   "cell_type": "markdown",
   "id": "4810f7c7-92d1-4737-a72d-1950048dbe55",
   "metadata": {
    "tags": []
   },
   "source": [
    "# NOW GET PERMUTATIONS AND HAVE MINIMUM VALUES FOR EACH AUDIO FILE NOW "
   ]
  },
  {
   "cell_type": "code",
   "execution_count": 11,
   "id": "8db9251b-c159-4377-97b7-8b37100990e4",
   "metadata": {
    "tags": []
   },
   "outputs": [],
   "source": [
    "newlist = []\n",
    "anotherList = []\n",
    "MinHash_dict = {}\n",
    "\n",
    "for c in range(len(Columns)):\n",
    "    \n",
    "    newlist = []\n",
    "\n",
    "    for i in range(len(list_of_perm)):\n",
    "\n",
    "        anotherList = []\n",
    "\n",
    "        for j in range(len(df[Columns[c]])):\n",
    "\n",
    "            if df[Columns[c]][j] == 1:\n",
    "                anotherList.append(list_of_perm[i][j])\n",
    "        \n",
    "        newlist.append(min(anotherList))\n",
    "    \n",
    "    MinHash_dict[Columns[c]] = newlist    "
   ]
  },
  {
   "attachments": {},
   "cell_type": "markdown",
   "id": "47d72367-abc9-4888-a2db-3549ee7f5bdf",
   "metadata": {},
   "source": [
    "# THE MIN HASH DICTIONARY"
   ]
  },
  {
   "cell_type": "code",
   "execution_count": 12,
   "id": "1f410b1d-7beb-4724-80b3-ce9c2704efd8",
   "metadata": {
    "tags": []
   },
   "outputs": [
    {
     "data": {
      "text/plain": [
       "[1, 0, 0, 6, 0, 2, 6, 8, 8, 7, 3, 0, 2, 5, 2, 4, 4, 1, 0, 0]"
      ]
     },
     "execution_count": 12,
     "metadata": {},
     "output_type": "execute_result"
    }
   ],
   "source": [
    "MinHash_dict[Columns[100]]"
   ]
  },
  {
   "attachments": {},
   "cell_type": "markdown",
   "id": "e45d14b4-7d91-4d07-94a6-1d5c10a2d0c9",
   "metadata": {},
   "source": [
    "# PICKLE THE MINHASH_DICT "
   ]
  },
  {
   "cell_type": "code",
   "execution_count": 13,
   "id": "f117dea8-4d59-41ee-9192-68d1194aa4f5",
   "metadata": {
    "tags": []
   },
   "outputs": [],
   "source": [
    "name = \"MinHash_dict.pkl\"\n",
    "\n",
    "with open(name, 'wb') as file:  \n",
    "    pickle.dump(MinHash_dict, file)"
   ]
  },
  {
   "cell_type": "code",
   "execution_count": 14,
   "id": "d5088f41-ec13-467c-a320-ad628991c1a4",
   "metadata": {
    "tags": []
   },
   "outputs": [],
   "source": [
    "with open(r\"MinHash_dict.pkl\", 'rb') as file: \n",
    "    Minimum = pickle.load(file)"
   ]
  },
  {
   "cell_type": "code",
   "execution_count": 15,
   "id": "0b76b641-afdd-454d-bc20-ac3501cb4bc5",
   "metadata": {
    "tags": []
   },
   "outputs": [
    {
     "data": {
      "text/plain": [
       "[1, 0, 0, 6, 0, 2, 6, 8, 8, 7, 3, 0, 2, 5, 2, 4, 4, 1, 0, 0]"
      ]
     },
     "execution_count": 15,
     "metadata": {},
     "output_type": "execute_result"
    }
   ],
   "source": [
    "Minimum[Columns[100]]"
   ]
  },
  {
   "attachments": {},
   "cell_type": "markdown",
   "id": "94946cbe-324d-4731-909f-ecedf366f109",
   "metadata": {},
   "source": [
    "# BANDS OF EACH AUDIO FILE TO THEN COMPARE WITH THE AUDIO FILE WE UPLOAD"
   ]
  },
  {
   "cell_type": "code",
   "execution_count": 16,
   "id": "010c3b76-941b-4b8e-879c-d5ecb2185a62",
   "metadata": {
    "tags": []
   },
   "outputs": [],
   "source": [
    "Band_1 = {}\n",
    "Band_2 = {}\n",
    "sum1 = 0\n",
    "sum2 = 0\n",
    "\n",
    "for i in Minimum:\n",
    "    \n",
    "    sum1 = 0\n",
    "    sum2 = 0\n",
    "    \n",
    "    for j in range(20):\n",
    "        \n",
    "        if j < 10:\n",
    "            \n",
    "            sum1 += Minimum[i][j]\n",
    "        \n",
    "        if j > 10:\n",
    "            \n",
    "            sum2 += Minimum[i][j]\n",
    "            \n",
    "    Band_1[i] = sum1\n",
    "    Band_2[i] = sum2"
   ]
  },
  {
   "attachments": {},
   "cell_type": "markdown",
   "id": "a263c838-97d6-4050-981a-3f2b6a583c32",
   "metadata": {
    "tags": []
   },
   "source": [
    "# GET BOTH SIMILAR SUMS IN ONE DICTIONARY"
   ]
  },
  {
   "cell_type": "code",
   "execution_count": 17,
   "id": "7c47932f-d320-49e4-8e6d-c8721ec406b0",
   "metadata": {
    "tags": []
   },
   "outputs": [],
   "source": [
    "Final_band_1 = {}\n",
    "Final_band_2 = {}\n",
    "\n",
    "for key, value in Band_1.items():\n",
    "    if value not in Final_band_1:\n",
    "        Final_band_1[value] = [key]\n",
    "    else:\n",
    "        Final_band_1[value].append(key)\n",
    "\n",
    "for key, value in Band_2.items():\n",
    "    if value not in Final_band_2:\n",
    "        Final_band_2[value] = [key]\n",
    "    else:\n",
    "        Final_band_2[value].append(key)"
   ]
  },
  {
   "cell_type": "code",
   "execution_count": 18,
   "id": "fc49f7e7-08d1-4893-be53-66dc52e53213",
   "metadata": {
    "tags": []
   },
   "outputs": [
    {
     "data": {
      "text/plain": [
       "35"
      ]
     },
     "execution_count": 18,
     "metadata": {},
     "output_type": "execute_result"
    }
   ],
   "source": [
    "len(Final_band_1[6])"
   ]
  },
  {
   "cell_type": "code",
   "execution_count": 19,
   "id": "2ef90aeb-eaa4-46f9-bc04-4182a89a2ac9",
   "metadata": {
    "tags": []
   },
   "outputs": [
    {
     "data": {
      "text/plain": [
       "46"
      ]
     },
     "execution_count": 19,
     "metadata": {},
     "output_type": "execute_result"
    }
   ],
   "source": [
    "len(Final_band_2[4])"
   ]
  },
  {
   "cell_type": "code",
   "execution_count": 20,
   "id": "17628064-aaf9-45e1-8f5a-d2aa3fbc79a4",
   "metadata": {
    "tags": []
   },
   "outputs": [
    {
     "data": {
      "text/plain": [
       "46"
      ]
     },
     "execution_count": 20,
     "metadata": {},
     "output_type": "execute_result"
    }
   ],
   "source": [
    "len(Final_band_1)"
   ]
  },
  {
   "cell_type": "code",
   "execution_count": 21,
   "id": "271ac59e-1818-4e40-8d19-776e6a270fbd",
   "metadata": {
    "tags": []
   },
   "outputs": [
    {
     "data": {
      "text/plain": [
       "39"
      ]
     },
     "execution_count": 21,
     "metadata": {},
     "output_type": "execute_result"
    }
   ],
   "source": [
    "len(Final_band_2)"
   ]
  },
  {
   "attachments": {},
   "cell_type": "markdown",
   "id": "fb5bf985-5964-4bbd-b358-9818154c0cc7",
   "metadata": {},
   "source": [
    "# DUMP THE FINAL BANDS INTO A PICKLE FILE AS WE NEED THEM LATER"
   ]
  },
  {
   "cell_type": "code",
   "execution_count": 22,
   "id": "45a22b3f-cec4-4ff7-8e37-59f73e40d2c9",
   "metadata": {
    "tags": []
   },
   "outputs": [],
   "source": [
    "name = \"Final_Bands_1.pkl\"\n",
    "\n",
    "with open(name, 'wb') as file:  \n",
    "    pickle.dump(Final_band_1, file)"
   ]
  },
  {
   "cell_type": "code",
   "execution_count": 23,
   "id": "d8205b68-ce1a-4e1c-8f5e-a198802bf8ec",
   "metadata": {
    "tags": []
   },
   "outputs": [],
   "source": [
    "name = \"Final_Bands_2.pkl\"\n",
    "\n",
    "with open(name, 'wb') as file:  \n",
    "    pickle.dump(Final_band_2, file)"
   ]
  },
  {
   "attachments": {},
   "cell_type": "markdown",
   "id": "1220ab72-621a-4e5c-acb0-4e3d80f30536",
   "metadata": {},
   "source": [
    "# LOAD THE FINAL BANDS FROM PICKLE FILES"
   ]
  },
  {
   "cell_type": "code",
   "execution_count": 24,
   "id": "f61b9629-6607-4eb6-ac80-7dc0620c1f8a",
   "metadata": {
    "tags": []
   },
   "outputs": [],
   "source": [
    "Final_band_1 = {}\n",
    "Final_band_2 = {}\n",
    "\n",
    "with open(r\"Final_bands_1.pkl\", 'rb') as file: \n",
    "    Final_band_1 = pickle.load(file)\n",
    "    \n",
    "with open(r\"Final_bands_2.pkl\", 'rb') as file: \n",
    "    Final_band_2 = pickle.load(file)"
   ]
  },
  {
   "cell_type": "code",
   "execution_count": 25,
   "id": "dc30eccd-9768-43d4-9c96-25831d6b8ac1",
   "metadata": {
    "tags": []
   },
   "outputs": [
    {
     "data": {
      "text/plain": [
       "46"
      ]
     },
     "execution_count": 25,
     "metadata": {},
     "output_type": "execute_result"
    }
   ],
   "source": [
    "len(Final_band_1)"
   ]
  },
  {
   "cell_type": "code",
   "execution_count": 26,
   "id": "08f066da-ab9f-4e9f-8be5-b640ca68a4c0",
   "metadata": {
    "tags": []
   },
   "outputs": [
    {
     "data": {
      "text/plain": [
       "39"
      ]
     },
     "execution_count": 26,
     "metadata": {},
     "output_type": "execute_result"
    }
   ],
   "source": [
    "len(Final_band_2)"
   ]
  },
  {
   "attachments": {},
   "cell_type": "markdown",
   "id": "64821cf3-1e5b-4fc0-a9b4-219fdfc23979",
   "metadata": {},
   "source": [
    "# TESTING AND GETTING JACCARD "
   ]
  },
  {
   "cell_type": "code",
   "execution_count": 35,
   "id": "e2602284-9729-4517-8951-625cc82c7eb9",
   "metadata": {
    "tags": []
   },
   "outputs": [
    {
     "data": {
      "text/plain": [
       "[1, 0, 0, 0, 1, 0, 0, 0, 0, 0, 0, 0, 0, 0, 0, 0, 0, 0, 0, 1]"
      ]
     },
     "execution_count": 35,
     "metadata": {},
     "output_type": "execute_result"
    }
   ],
   "source": [
    "newlist = []\n",
    "anotherList = []\n",
    "\n",
    "for i in range(len(list_of_perm)):\n",
    "    \n",
    "    anotherList = []\n",
    "    \n",
    "    for j in range(len(Audio_1)):\n",
    "\n",
    "        if Audio_1[j] == 1:\n",
    "            anotherList.append(list_of_perm[i][j])\n",
    "    \n",
    "    newlist.append(min(anotherList))\n",
    "    \n",
    "newlist"
   ]
  },
  {
   "cell_type": "code",
   "execution_count": 36,
   "id": "b35012d3-fffa-4b5e-ab78-8f35c09b17e8",
   "metadata": {
    "tags": []
   },
   "outputs": [],
   "source": [
    "Sum1 = 0\n",
    "Sum2 = 0\n",
    "test_Audio = {}\n",
    "\n",
    "for i in range(20):\n",
    "    if i < 10:\n",
    "        Sum1 += newlist[i]\n",
    "        \n",
    "    if i > 10:\n",
    "        Sum2 += newlist[i]\n",
    "    \n",
    "    \n",
    "test_Audio['sum_1'] = Sum1\n",
    "test_Audio['sum_2'] = Sum2"
   ]
  },
  {
   "cell_type": "code",
   "execution_count": 37,
   "id": "29ef053a-0a7c-4e5e-8892-0cc5df71d8e4",
   "metadata": {
    "tags": []
   },
   "outputs": [
    {
     "data": {
      "text/plain": [
       "{'sum_1': 2, 'sum_2': 1}"
      ]
     },
     "execution_count": 37,
     "metadata": {},
     "output_type": "execute_result"
    }
   ],
   "source": [
    "test_Audio"
   ]
  },
  {
   "cell_type": "code",
   "execution_count": 38,
   "id": "6e4a7b4b-9ccc-4b29-9f7d-02b2bd1e523f",
   "metadata": {
    "tags": []
   },
   "outputs": [],
   "source": [
    "Similarity_1 = []\n",
    "Similarity_2 = []\n",
    "\n",
    "for i in Final_band_1:\n",
    "    if test_Audio['sum_1'] == i:\n",
    "        Similarity_1 = Final_band_1[i]\n",
    "        \n",
    "for i in Final_band_2:\n",
    "    if test_Audio['sum_2'] == i:\n",
    "        Similarity_2 = Final_band_2[i]"
   ]
  },
  {
   "cell_type": "code",
   "execution_count": 39,
   "id": "8d06ce1c-f0eb-44ec-9d9e-850290cb37f5",
   "metadata": {
    "tags": []
   },
   "outputs": [
    {
     "data": {
      "text/plain": [
       "49"
      ]
     },
     "execution_count": 39,
     "metadata": {},
     "output_type": "execute_result"
    }
   ],
   "source": [
    "len(Similarity_1)"
   ]
  },
  {
   "cell_type": "code",
   "execution_count": 40,
   "id": "feebbe51-1ee5-4a58-890b-b581ce0a5ac4",
   "metadata": {
    "tags": []
   },
   "outputs": [
    {
     "data": {
      "text/plain": [
       "46"
      ]
     },
     "execution_count": 40,
     "metadata": {},
     "output_type": "execute_result"
    }
   ],
   "source": [
    "len(Final_band_2[4])"
   ]
  },
  {
   "cell_type": "code",
   "execution_count": 41,
   "id": "e2316b79-7e50-4248-91ee-fac654c421db",
   "metadata": {
    "tags": []
   },
   "outputs": [],
   "source": [
    "Similar = Similarity_1 + Similarity_2"
   ]
  },
  {
   "cell_type": "code",
   "execution_count": 42,
   "id": "207bfd5d-eae0-4c27-8939-3b3620f59fb6",
   "metadata": {
    "tags": []
   },
   "outputs": [
    {
     "data": {
      "text/plain": [
       "73"
      ]
     },
     "execution_count": 42,
     "metadata": {},
     "output_type": "execute_result"
    }
   ],
   "source": [
    "Similar = list(np.unique(Similar))\n",
    "len(Similar)"
   ]
  },
  {
   "cell_type": "code",
   "execution_count": 43,
   "id": "e6cb2df0-cf21-4564-97ff-8c97523576a4",
   "metadata": {
    "tags": []
   },
   "outputs": [],
   "source": [
    "Hash_sum = 0\n",
    "Jaccard = {}\n",
    "\n",
    "for i in Similar:\n",
    "    \n",
    "    Hash_sum = 0\n",
    "    \n",
    "    for index, value in enumerate(newlist):\n",
    "        \n",
    "        if Minimum[i][index] == newlist[index]:\n",
    "            Hash_sum += 1\n",
    "    \n",
    "    Jaccard[i] = (Hash_sum / 20) * 100"
   ]
  },
  {
   "attachments": {},
   "cell_type": "markdown",
   "id": "4218db6b-2035-4ba8-8fe5-91a323c67732",
   "metadata": {},
   "source": [
    "# PRINT THE LOWEST / HIGHEST METRIC VALUE AUDIO "
   ]
  },
  {
   "cell_type": "code",
   "execution_count": 44,
   "id": "836d1c79-52d8-422a-98bc-b35c757b5acd",
   "metadata": {
    "tags": []
   },
   "outputs": [
    {
     "name": "stdout",
     "output_type": "stream",
     "text": [
      "THE HIGHEST METRIC VALUE AUDIO IS  001039.mp3  WITH JACCARD =  100.0\n",
      "THE LOWEST METRIC VALUE AUDIO IS  007378.mp3  WITH JACCARD =  45.0\n"
     ]
    }
   ],
   "source": [
    "i = 0\n",
    "\n",
    "for index, value in enumerate(Jaccard):\n",
    "    if Jaccard[value] == Jaccard[max(Jaccard, key=Jaccard.get)]:\n",
    "        print('THE HIGHEST METRIC VALUE AUDIO IS ', value[5:], ' WITH JACCARD = ', Jaccard[max(Jaccard, key=Jaccard.get)])\n",
    "        break\n",
    "i = 0 \n",
    "\n",
    "for index, value in enumerate(Jaccard):\n",
    "    if Jaccard[value] == Jaccard[min(Jaccard, key=Jaccard.get)]:\n",
    "        print('THE LOWEST METRIC VALUE AUDIO IS ', value[5:], ' WITH JACCARD = ', Jaccard[min(Jaccard, key=Jaccard.get)])\n",
    "        break\n",
    "        "
   ]
  },
  {
   "attachments": {},
   "cell_type": "markdown",
   "id": "ab777528-4c44-4471-a2af-33bfad79c770",
   "metadata": {},
   "source": [
    "# Here we can see that our model predicted accurately that it was which audio file it also gave us the least similar if we show some of the similar audio files then we have our recommender system ready and running"
   ]
  },
  {
   "attachments": {},
   "cell_type": "markdown",
   "id": "3245018c-e5b3-4638-8cbb-fee60d536765",
   "metadata": {},
   "source": [
    "# COMBINE CODE OF LSH MODEL "
   ]
  },
  {
   "cell_type": "code",
   "execution_count": 154,
   "id": "eb56f737-0af2-40da-8498-49912b994b70",
   "metadata": {
    "tags": []
   },
   "outputs": [],
   "source": [
    "def Songs_Entry():\n",
    "    path = 'Data/'\n",
    "    count = 0\n",
    "\n",
    "    files = glob.glob(path + '*.mp3')\n",
    "\n",
    "    P_dict = {}\n",
    "\n",
    "    for filename in tqdm(files):\n",
    "        x, Sr = librosa.load(filename, dtype='float32')\n",
    "        MFCC_1 = librosa.feature.mfcc(y=x,sr=Sr)\n",
    "\n",
    "        Audios = []\n",
    "\n",
    "        for index, value in enumerate(MFCC_1):\n",
    "\n",
    "            length_of_vector = len(MFCC_1[index])\n",
    "\n",
    "            Random_vector = np.random.rand(length_of_vector,1)\n",
    "\n",
    "            Dot_product = np.dot(MFCC_1[index], Random_vector)\n",
    "\n",
    "            Audios.append(float(Dot_product))\n",
    "\n",
    "        for index, value in enumerate(Audios):\n",
    "\n",
    "            if value > 1:\n",
    "                Audios[index] = 1\n",
    "            elif value < 1:\n",
    "                Audios[index] = 0\n",
    "\n",
    "        P_dict[filename] = Audios  \n",
    "    \n",
    "    return P_dict"
   ]
  },
  {
   "cell_type": "code",
   "execution_count": 155,
   "id": "bb1e2d0e-09b4-4ffc-833e-b3b6c7ab335e",
   "metadata": {
    "tags": []
   },
   "outputs": [],
   "source": [
    "def permutations(number_of_permutations):\n",
    "    P_lists = []\n",
    "\n",
    "    for i in range(number_of_permutations):\n",
    "        Permutations = list(np.random.permutation(20))\n",
    "        P_lists.append(Permutations)\n",
    "    \n",
    "    return P_lists"
   ]
  },
  {
   "cell_type": "code",
   "execution_count": 156,
   "id": "1bbaaf01-4f62-441b-93eb-605b7e9b9419",
   "metadata": {
    "tags": []
   },
   "outputs": [],
   "source": [
    "def MinHashDict(Columns, list_of_perm, df_):\n",
    "    newlist = []\n",
    "    anotherList = []\n",
    "    MinHash_dict = {}\n",
    "\n",
    "    for c in range(len(Columns)):\n",
    "\n",
    "        newlist = []\n",
    "\n",
    "        for i in range(len(list_of_perm)):\n",
    "\n",
    "            anotherList = []\n",
    "\n",
    "            for j in range(len(df_[Columns[c]])):\n",
    "\n",
    "                if df_[Columns[c]][j] == 1:\n",
    "                    anotherList.append(list_of_perm[i][j])\n",
    "\n",
    "            newlist.append(min(anotherList))\n",
    "\n",
    "        MinHash_dict[Columns[c]] = newlist\n",
    "    \n",
    "    return MinHash_dict"
   ]
  },
  {
   "cell_type": "code",
   "execution_count": 157,
   "id": "38b1cfa5-fcf3-40fb-880a-d0bd16d40d9f",
   "metadata": {
    "tags": []
   },
   "outputs": [],
   "source": [
    "def FinalBands(minimum):\n",
    "    Band_1 = {}\n",
    "    Band_2 = {}\n",
    "    sum1 = 0\n",
    "    sum2 = 0\n",
    "\n",
    "    for i in minimum:\n",
    "\n",
    "        sum1 = 0\n",
    "        sum2 = 0\n",
    "\n",
    "        for j in range(30):\n",
    "\n",
    "            if j < 15:\n",
    "\n",
    "                sum1 += minimum[i][j]\n",
    "\n",
    "            if j > 15:\n",
    "\n",
    "                sum2 += minimum[i][j]\n",
    "\n",
    "        Band_1[i] = sum1\n",
    "        Band_2[i] = sum2\n",
    "            \n",
    "    \n",
    "    Final_band_1 = {}\n",
    "    Final_band_2 = {}\n",
    "\n",
    "    for key, value in Band_1.items():\n",
    "        if value not in Final_band_1:\n",
    "            Final_band_1[value] = [key]\n",
    "        else:\n",
    "            Final_band_1[value].append(key)\n",
    "\n",
    "    for key, value in Band_2.items():\n",
    "        if value not in Final_band_2:\n",
    "            Final_band_2[value] = [key]\n",
    "        else:\n",
    "            Final_band_2[value].append(key)\n",
    "            \n",
    "    return Final_band_1, Final_band_2"
   ]
  },
  {
   "cell_type": "code",
   "execution_count": 158,
   "id": "64c615e5-293a-4981-a92b-665a8b74b793",
   "metadata": {
    "tags": []
   },
   "outputs": [],
   "source": [
    "def PreProcessQuery(query_):\n",
    "    path =  query_ + '.mp3'\n",
    "        \n",
    "    X, sr = librosa.load(path, dtype='float32')\n",
    "    MFCC = librosa.feature.mfcc(y=X, sr=sr)\n",
    "\n",
    "    query = []\n",
    "\n",
    "    for index, value in enumerate(MFCC):\n",
    "\n",
    "        length_of_vector = len(MFCC[index])\n",
    "\n",
    "        Random_vector = np.random.rand(length_of_vector,1)\n",
    "\n",
    "        Dot_product = np.dot(MFCC[index], Random_vector)\n",
    "\n",
    "        query.append(Dot_product)\n",
    "\n",
    "    for index, value in enumerate(query):\n",
    "\n",
    "        if value > 1:\n",
    "            query[index] = 1\n",
    "        elif value < 1:\n",
    "            query[index] = 0\n",
    "            \n",
    "    return query"
   ]
  },
  {
   "cell_type": "code",
   "execution_count": 159,
   "id": "2859e545-f7bd-4965-8ef3-f6c92598e944",
   "metadata": {
    "tags": []
   },
   "outputs": [],
   "source": [
    "def LSHModel(query_audio):\n",
    "    with open(r\"Audios_shingling.pkl\", 'rb') as file: \n",
    "        Audios = pickle.load(file)\n",
    "        \n",
    "    Audio_query = PreProcessQuery(query_audio)\n",
    "        \n",
    "    Dict_of_hashes = Audios\n",
    "    \n",
    "    list_of_perm = permutations(30)\n",
    "    \n",
    "    df = pd.DataFrame(Dict_of_hashes)\n",
    "    \n",
    "    Columns = list(df.columns)\n",
    "    \n",
    "    Minimum = MinHashDict(Columns, list_of_perm, df) \n",
    "        \n",
    "    Final_band_1, Final_band_2 = FinalBands(Minimum)\n",
    "    \n",
    "    newlist = []\n",
    "    anotherList = []\n",
    "\n",
    "    for i in range(len(list_of_perm)):\n",
    "\n",
    "        anotherList = []\n",
    "\n",
    "        for j in range(len(Audio_query)):\n",
    "\n",
    "            if Audio_query[j] == 1:\n",
    "                anotherList.append(list_of_perm[i][j])\n",
    "\n",
    "        newlist.append(min(anotherList))\n",
    "\n",
    "    Sum1 = 0\n",
    "    Sum2 = 0\n",
    "    test_Audio = {}\n",
    "\n",
    "    for i in range(30):\n",
    "        if i < 15:\n",
    "            Sum1 += newlist[i]\n",
    "\n",
    "        if i > 15:\n",
    "            Sum2 += newlist[i]\n",
    "\n",
    "\n",
    "    test_Audio['sum_1'] = Sum1\n",
    "    test_Audio['sum_2'] = Sum2\n",
    "    \n",
    "    Similarity_1 = []\n",
    "    Similarity_2 = []\n",
    "\n",
    "    for i in Final_band_1:\n",
    "        if test_Audio['sum_1'] == i:\n",
    "            Similarity_1 = Final_band_1[i]\n",
    "\n",
    "    for i in Final_band_2:\n",
    "        if test_Audio['sum_2'] == i:\n",
    "            Similarity_2 = Final_band_2[i]\n",
    "            \n",
    "    Similar = Similarity_1 + Similarity_2\n",
    "    Similar = list(np.unique(Similar))\n",
    "    \n",
    "    Hash_sum = 0\n",
    "    Jaccard = {}\n",
    "\n",
    "    for i in Similar:\n",
    "\n",
    "        Hash_sum = 0\n",
    "\n",
    "        for index, value in enumerate(newlist):\n",
    "\n",
    "            if Minimum[i][index] == newlist[index]:\n",
    "                Hash_sum += 1\n",
    "\n",
    "        Jaccard[i] = (Hash_sum / 30)*100\n",
    "        \n",
    "    i = 0\n",
    "\n",
    "    for index, value in enumerate(Jaccard):\n",
    "        if Jaccard[value] == Jaccard[max(Jaccard, key=Jaccard.get)]:\n",
    "            print('THE HIGHEST METRIC VALUE AUDIO IS ', value[5:], ' WITH JACCARD = ', Jaccard[max(Jaccard, key=Jaccard.get)])\n",
    "            pre = value[5:]\n",
    "            pre = pre[:6]\n",
    "            return pre\n",
    "            break\n",
    "    '''i = 0 \n",
    "\n",
    "    for index, value in enumerate(Jaccard):\n",
    "        if Jaccard[value] == Jaccard[min(Jaccard, key=Jaccard.get)]:\n",
    "            print('THE LOWEST METRIC VALUE AUDIO IS ', value[5:], ' WITH JACCARD = ', Jaccard[min(Jaccard, key=Jaccard.get)])\n",
    "            break\n",
    "            \n",
    "    '''"
   ]
  },
  {
   "attachments": {},
   "cell_type": "markdown",
   "id": "3f398311-b67e-436a-9189-feef3ff2483d",
   "metadata": {},
   "source": [
    "# THE QUERY AUDIO AND PUT INSIDE LSH MODEL TO PREDICT "
   ]
  },
  {
   "cell_type": "code",
   "execution_count": 242,
   "id": "49c67ad1-762a-4254-85fe-99fc829e5e7e",
   "metadata": {
    "tags": []
   },
   "outputs": [
    {
     "name": "stdout",
     "output_type": "stream",
     "text": [
      "THE HIGHEST METRIC VALUE AUDIO IS  012058.mp3  WITH JACCARD =  100.0\n",
      "012058\n",
      "Elapsed time: 2.15 seconds\n"
     ]
    }
   ],
   "source": [
    "import time\n",
    "\n",
    "start_time = time.time()\n",
    "\n",
    "print(LSHModel('Data/012058'))\n",
    "\n",
    "end_time = time.time()\n",
    "\n",
    "elapsed_time = end_time - start_time\n",
    "\n",
    "print(\"Elapsed time: {:.2f} seconds\".format(elapsed_time))"
   ]
  },
  {
   "attachments": {},
   "cell_type": "markdown",
   "id": "268b7a04-cf6a-4720-92cc-41f795d4b7cf",
   "metadata": {},
   "source": [
    "# EVALUATE LSH"
   ]
  },
  {
   "cell_type": "code",
   "execution_count": null,
   "id": "48ee75a3-77ba-4055-a70d-a051b65e0009",
   "metadata": {
    "tags": []
   },
   "outputs": [],
   "source": [
    "def getMFCCs():\n",
    "\n",
    "    path = 'Data/'\n",
    "    count = 0\n",
    "\n",
    "    files = glob.glob(path + '*.mp3')\n",
    "\n",
    "    MFCC_dict = {}\n",
    "\n",
    "    for filename in tqdm(files):\n",
    "        x, Sr = librosa.load(filename, dtype='float32')\n",
    "        MFCC_1 = librosa.feature.mfcc(y=x,sr=Sr)\n",
    "\n",
    "        filename = filename[5:]\n",
    "        MFCC_dict[filename[:6]] = MFCC_1 \n",
    "        \n",
    "    return MFCC_dict"
   ]
  },
  {
   "cell_type": "code",
   "execution_count": 157,
   "id": "e23290c0-2cd0-47b0-a15c-73aac0677a38",
   "metadata": {
    "tags": []
   },
   "outputs": [],
   "source": [
    "name = \"Audios_MFCCs.pkl\"\n",
    "\n",
    "with open(name, 'wb') as file:  \n",
    "    pickle.dump(queries, file)"
   ]
  },
  {
   "cell_type": "code",
   "execution_count": 198,
   "id": "e0bed55b-cd8b-414f-98af-7662fa4aa5db",
   "metadata": {
    "tags": []
   },
   "outputs": [
    {
     "name": "stderr",
     "output_type": "stream",
     "text": [
      "100%|██████████████████████████████████████████████████████████████████████████████| 823/823 [2:21:09<00:00, 10.29s/it]"
     ]
    },
    {
     "name": "stdout",
     "output_type": "stream",
     "text": [
      "Accuracy :  48.48116646415553\n"
     ]
    },
    {
     "name": "stderr",
     "output_type": "stream",
     "text": [
      "\n"
     ]
    }
   ],
   "source": [
    "path = 'Data/'\n",
    "\n",
    "files = glob.glob(path + '*.mp3')\n",
    "filenames = []\n",
    "number_correct = 0\n",
    "\n",
    "for file in files:\n",
    "    file = file[5:]\n",
    "    file = file[:6]\n",
    "    filenames.append(file)\n",
    "\n",
    "n = 5\n",
    "    \n",
    "for audio in tqdm(filenames):\n",
    "    \n",
    "    for _ in range(n):\n",
    "        predict = LSHModel(audio)\n",
    "    \n",
    "    audio_dot = PreProcessQuery(audio)\n",
    "    predict_dot = PreProcessQuery(predict)\n",
    "    \n",
    "    if audio_dot == predict_dot:\n",
    "        number_correct += 1\n",
    "    \n",
    "print('Accuracy : ', (number_correct / len(filenames)) * 100)"
   ]
  },
  {
   "attachments": {},
   "cell_type": "markdown",
   "id": "f4d69961-d41c-44da-a96e-edc29eb17da4",
   "metadata": {},
   "source": [
    "## If we evaluate as I havent had the most iterations but with only 5 iterations and training my dataset we got around 49 percent accuracy which I calculated myself but if we compare to KNN LSH works far more better in similar audio matchig, I dont know the genres but I have tested them out and my LSH model does give similar audios if not same like the query "
   ]
  },
  {
   "attachments": {},
   "cell_type": "markdown",
   "id": "25647661-ef1b-4679-af82-dfd6a32447be",
   "metadata": {},
   "source": [
    "# ---------------------------------------------------------------------------------------------------------------------------"
   ]
  },
  {
   "attachments": {},
   "cell_type": "markdown",
   "id": "1df05e88-70c7-4ba3-91e1-416e98e687f2",
   "metadata": {},
   "source": [
    "## The above accuracy is the accuracy which shows how much my LSH model can predict 100% same audio file but it predicts similar audio file so the accuracy here is fine, I checked for all the audio files and my LSH model gives accurate similar audio."
   ]
  },
  {
   "attachments": {},
   "cell_type": "markdown",
   "id": "c858220f-927e-4107-a9a1-5c18697f9b92",
   "metadata": {},
   "source": [
    "## GET THE NAME, FILE PATH AND META DATA AND SAVE INTO MONGODB NOSQL DATABASE"
   ]
  },
  {
   "cell_type": "code",
   "execution_count": 2,
   "id": "52bdf797-2e2b-4a87-9439-2a772639b8ca",
   "metadata": {},
   "outputs": [],
   "source": [
    "import os\n",
    "import pymongo\n",
    "from mutagen.easyid3 import EasyID3"
   ]
  },
  {
   "attachments": {},
   "cell_type": "markdown",
   "id": "57ee63a2",
   "metadata": {},
   "source": [
    "## Establish a connection to MongoDB instance"
   ]
  },
  {
   "cell_type": "code",
   "execution_count": 3,
   "id": "2800146c-01af-45ce-ab39-2ecf1052faa2",
   "metadata": {},
   "outputs": [],
   "source": [
    "client = pymongo.MongoClient(\"mongodb://localhost:27017\")\n",
    "db = client[\"Music_Database\"]\n",
    "collection = db[\"All_mp3\"]"
   ]
  },
  {
   "attachments": {},
   "cell_type": "markdown",
   "id": "80b4581b",
   "metadata": {},
   "source": [
    "## Define a function to extract the metadata from a music file"
   ]
  },
  {
   "cell_type": "code",
   "execution_count": 4,
   "id": "3b945f60-89a9-4010-9a35-af3ab9d40be8",
   "metadata": {},
   "outputs": [],
   "source": [
    "def get_metadata(file_path):\n",
    "    metadata = EasyID3(file_path)\n",
    "    metaData = {\"title\": metadata.get(\"title\", [\"\"])[0],\n",
    "        \"artist\": metadata.get(\"artist\", [\"\"])[0],\n",
    "        \"album\": metadata.get(\"album\", [\"\"])[0],\n",
    "        \"genre\": metadata.get(\"genre\", [\"\"])[0]\n",
    "        }\n",
    "    return metaData;"
   ]
  },
  {
   "attachments": {},
   "cell_type": "markdown",
   "id": "82f01920",
   "metadata": {},
   "source": [
    "## Loop over music files and insert them into MongoDB"
   ]
  },
  {
   "cell_type": "code",
   "execution_count": 5,
   "id": "d8d5fa4c",
   "metadata": {},
   "outputs": [],
   "source": [
    "for root, dirs, files in os.walk(\"C:/Users/ahaqu/OneDrive/Desktop/ML BASED SE PROJECT/Data\"):\n",
    "    for file_name in files:\n",
    "        if file_name.endswith(\".mp3\"):\n",
    "            file_path = os.path.join(root, file_name)\n",
    "            metadata = get_metadata(file_path)\n",
    "            with open(file_path, \"rb\") as f:\n",
    "                file_data = f.read()\n",
    "            collection.insert_one({\n",
    "                \"file_path\": file_path,\n",
    "                \"file_name\": file_name,\n",
    "                **metadata, ## HERE I USED ** TO UNPACK DICTIONARY OF META DATA INTO KEY VALUE PAIRS\n",
    "                \"data\": file_data\n",
    "            })"
   ]
  },
  {
   "attachments": {},
   "cell_type": "markdown",
   "id": "e79c2b3b",
   "metadata": {},
   "source": [
    "Here all my meta data and also the information I need is saved into mongodb "
   ]
  }
 ],
 "metadata": {
  "kernelspec": {
   "display_name": "Python 3 (ipykernel)",
   "language": "python",
   "name": "python3"
  },
  "language_info": {
   "codemirror_mode": {
    "name": "ipython",
    "version": 3
   },
   "file_extension": ".py",
   "mimetype": "text/x-python",
   "name": "python",
   "nbconvert_exporter": "python",
   "pygments_lexer": "ipython3",
   "version": "3.11.3"
  }
 },
 "nbformat": 4,
 "nbformat_minor": 5
}
